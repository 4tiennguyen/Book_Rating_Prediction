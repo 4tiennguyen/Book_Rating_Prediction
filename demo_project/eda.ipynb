{
 "cells": [
  {
   "cell_type": "code",
   "execution_count": 1,
   "metadata": {},
   "outputs": [],
   "source": [
    "#Prevent Large File crashing on Jupyter Notebook\n",
    "import os\n",
    "os.environ['KMP_DUPLICATE_LIB_OK'] = 'True'"
   ]
  },
  {
   "cell_type": "code",
   "execution_count": null,
   "metadata": {},
   "outputs": [],
   "source": [
    "import pandas as pd\n",
    "import numpy as np\n",
    "#import vaex, numpy as np\n",
    "from matplotlib.font_manager import FontProperties\n",
    "import seaborn as sns\n",
    "from matplotlib import rcParams\n",
    "import matplotlib.pyplot as plt\n",
    "%matplotlib inline\n",
    "import matplotlib.ticker as ticker\n",
    "import datetime\n",
    "import warnings \n",
    "#sns.set_style(\"darkgrid\",{\"axes.axisbelow\" : False })\n",
    "warnings.simplefilter('ignore')\n",
    "import string"
   ]
  },
  {
   "cell_type": "markdown",
   "metadata": {},
   "source": [
    "# Data Exploration"
   ]
  },
  {
   "cell_type": "code",
   "execution_count": null,
   "metadata": {},
   "outputs": [],
   "source": [
    "amazon = pd.read_csv('am_metadata_sample.csv')\n",
    "gr     = pd.read_csv('gr_metadata_sample.csv')"
   ]
  },
  {
   "cell_type": "markdown",
   "metadata": {},
   "source": [
    "### Checking missing value"
   ]
  },
  {
   "cell_type": "code",
   "execution_count": null,
   "metadata": {},
   "outputs": [],
   "source": [
    "amazon.isnull().sum()"
   ]
  },
  {
   "cell_type": "code",
   "execution_count": null,
   "metadata": {},
   "outputs": [],
   "source": [
    "gr.isnull().sum()"
   ]
  },
  {
   "cell_type": "markdown",
   "metadata": {},
   "source": [
    "# Plot the distribution of the average rating "
   ]
  },
  {
   "cell_type": "code",
   "execution_count": null,
   "metadata": {},
   "outputs": [],
   "source": [
    "amazon.describe()"
   ]
  },
  {
   "cell_type": "code",
   "execution_count": null,
   "metadata": {},
   "outputs": [],
   "source": [
    "gr.describe()"
   ]
  },
  {
   "cell_type": "code",
   "execution_count": null,
   "metadata": {
    "scrolled": true
   },
   "outputs": [],
   "source": [
    "fig,ax=plt.subplots(1, 2, figsize=(15,4))\n",
    "\n",
    "# Distribution of Amazon Average Rating\n",
    "sns.distplot(amazon.average, hist=True, kde=False,  \n",
    "             bins=28, color = 'blue',\n",
    "             hist_kws={'edgecolor':'black'},\n",
    "            ax=ax[0])\n",
    "ax[0].set_title('Distribution of Amazon Average Rating')\n",
    "ax[0].axvline(amazon.describe().average['mean'], 0, color='darkblue', linestyle='--')\n",
    "\n",
    "# Distribution of Goodreads Average Rating\n",
    "sns.distplot(gr.average_rating, hist=True, kde=False,  \n",
    "             bins=28, color = 'blue',\n",
    "             hist_kws={'edgecolor':'black'},\n",
    "            ax = ax[1])\n",
    "ax[1].set_title('Distribution of Goodreads Average Rating')\n",
    "ax[1].axvline(gr.describe().average_rating['mean'], 0, color='darkblue', linestyle='--')\n",
    "\n",
    "# Making plots uniform for easier side-by-side comparison\n",
    "for i in range(2):\n",
    "    ax[i].set_xlabel('Average rating')\n",
    "    ax[i].set_ylabel('Frequency (Number of books)')\n",
    "    ax[i].set_xticks(np.arange(1,5.5,0.5))\n",
    "    ax[i].set_ylim(0,1000,1000)\n",
    "\n",
    "plt.show()"
   ]
  },
  {
   "cell_type": "code",
   "execution_count": null,
   "metadata": {},
   "outputs": [],
   "source": [
    "fig,ax=plt.subplots(1, 2, figsize=(15,4))\n",
    "\n",
    "# Distribution of Amazon Average Rating by Number of Stars\n",
    "sns.countplot(x=np.round(amazon.average,0),  order=list(range(1,6)), color='lightskyblue', ax=ax[0])\n",
    "ax[0].set_title('Distribution of Amazon Average Rating by Number of Stars')\n",
    "\n",
    "# Distribution of Goodreads Average Rating by Number of Stars\n",
    "sns.countplot(x=np.round(gr.average_rating,0), order=list(range(1,6)), color='lightskyblue', ax=ax[1])\n",
    "ax[1].set_title('Distribution of Goodreads Average Rating by Number of Stars')\n",
    "\n",
    "# Making plots uniform for easier side-by-side comparison\n",
    "for i in range(2):\n",
    "    ax[i].set_xlabel('Average rating (grouped by number of stars)')\n",
    "    ax[i].set_ylabel('Frequency (Number of books)')\n",
    "    ax[i].set_ylim(0,5000,5000)\n",
    "\n",
    "plt.show()"
   ]
  },
  {
   "cell_type": "markdown",
   "metadata": {},
   "source": [
    "### Average rating vs number of reviews"
   ]
  },
  {
   "cell_type": "code",
   "execution_count": null,
   "metadata": {},
   "outputs": [],
   "source": [
    "plt.scatter(amazon.average,amazon.rating_count)\n",
    "plt.title('Amazon Average Rating vs Number of Reviews', size = 13)\n",
    "plt.axvline(amazon.describe().average['mean'], 0, color='darkblue', linestyle='--')\n",
    "plt.xlabel('Average rating')\n",
    "plt.ylabel('Number of reviews')\n",
    "plt.xticks(np.arange(1,5.5,0.5))\n",
    "plt.show()"
   ]
  },
  {
   "cell_type": "code",
   "execution_count": null,
   "metadata": {},
   "outputs": [],
   "source": [
    "plt.scatter(gr.average_rating,gr.total_text_reviews_count)\n",
    "plt.title('Goodreads Average Rating vs Number of Reviews', size = 13)\n",
    "plt.axvline(gr.describe().average_rating['mean'], 0, color='darkblue', linestyle='--')\n",
    "plt.xlabel('Average rating')\n",
    "plt.ylabel('Number of reviews')\n",
    "plt.xticks(np.arange(1,5.5,0.5))\n",
    "plt.show()"
   ]
  },
  {
   "cell_type": "markdown",
   "metadata": {},
   "source": [
    "## Amazon rating - Goodreads rating"
   ]
  },
  {
   "cell_type": "code",
   "execution_count": null,
   "metadata": {},
   "outputs": [],
   "source": [
    "amazon_gr = pd.merge(amazon, gr, how = 'inner', on ='asin')"
   ]
  },
  {
   "cell_type": "code",
   "execution_count": null,
   "metadata": {},
   "outputs": [],
   "source": [
    "amazon_gr['rating_diff'] = amazon_gr['average'] -  amazon_gr['average_rating']"
   ]
  },
  {
   "cell_type": "code",
   "execution_count": null,
   "metadata": {},
   "outputs": [],
   "source": [
    "am_gr = pd.DataFrame(amazon_gr, columns = ['asin','rating_diff','average','rating_count', 'text_reviews_count_x','total_ratings_count',\n",
    "                                           'total_text_reviews_count', 'average_rating','genres'])"
   ]
  },
  {
   "cell_type": "code",
   "execution_count": null,
   "metadata": {},
   "outputs": [],
   "source": [
    "am_gr = am_gr.rename(columns = {'average':'amazon_average', 'rating_count': 'amazon_rating_count', \n",
    "                                'text_reviews_count_x': 'amazon_text_reviews_count', 'total_ratings_count': 'gr_rating_count',\n",
    "                                'total_text_reviews_count':'gr_text_reviews_count', 'average_rating': 'gr_average'})"
   ]
  },
  {
   "cell_type": "code",
   "execution_count": null,
   "metadata": {},
   "outputs": [],
   "source": [
    "am_gr"
   ]
  },
  {
   "cell_type": "code",
   "execution_count": null,
   "metadata": {},
   "outputs": [],
   "source": [
    "am_gr.describe()"
   ]
  },
  {
   "cell_type": "code",
   "execution_count": null,
   "metadata": {},
   "outputs": [],
   "source": [
    "sns.distplot(am_gr.rating_diff, hist=True, kde=False,  \n",
    "             bins=28, color = 'blue',\n",
    "             hist_kws={'edgecolor':'black'})\n",
    "plt.xlabel('Average rating difference')\n",
    "plt.ylabel('Frequency (Number of books)')\n",
    "plt.title('Distribution of Difference in Ratings between Amazon and Goodreads')\n",
    "plt.xlim(-2,2)\n",
    "plt.axvline(am_gr.describe().rating_diff['mean'], 0, color='darkblue', linestyle='--')\n",
    "plt.show()"
   ]
  },
  {
   "cell_type": "code",
   "execution_count": null,
   "metadata": {},
   "outputs": [],
   "source": [
    "am_gr['rating_count'] = am_gr['amazon_rating_count']+am_gr['gr_rating_count']\n",
    "am_gr['text_reviews_count'] = am_gr['amazon_text_reviews_count']+am_gr['gr_text_reviews_count']\n",
    "am_gr"
   ]
  },
  {
   "cell_type": "code",
   "execution_count": null,
   "metadata": {},
   "outputs": [],
   "source": [
    "plt.scatter(am_gr.rating_diff, am_gr.rating_count)\n",
    "plt.title('Rating Difference vs Total Number of Ratings', size = 17)\n",
    "plt.xlabel('Average rating difference', size=10)\n",
    "plt.ylabel('Total number of ratings (Amazon + Goodreads)', size=10)\n",
    "plt.axvline(am_gr.describe().rating_diff['mean'], 0, color='darkblue', linestyle='--')\n",
    "plt.show()"
   ]
  },
  {
   "cell_type": "code",
   "execution_count": null,
   "metadata": {},
   "outputs": [],
   "source": [
    "plt.scatter(am_gr.rating_diff, am_gr.text_reviews_count)\n",
    "plt.title('Rating Difference vs Total Number of Text Reviews', size = 17)\n",
    "plt.xlabel('Average rating difference', size =10)\n",
    "plt.ylabel('Total number of text reviews (Amazon + Goodreads)', size=10)\n",
    "plt.axvline(am_gr.describe().rating_diff['mean'], 0, color='darkblue', linestyle='--')\n",
    "plt.show()"
   ]
  },
  {
   "cell_type": "code",
   "execution_count": null,
   "metadata": {},
   "outputs": [],
   "source": [
    "#genres = am_gr.genres"
   ]
  },
  {
   "cell_type": "code",
   "execution_count": null,
   "metadata": {},
   "outputs": [],
   "source": [
    "'''unique_genres = dict()\n",
    "for genre in genres:\n",
    "    genre_split = genre.split(',')\n",
    "    for g in genre_split:\n",
    "        if g in unique_genres:\n",
    "            unique_genres[g] += 1\n",
    "        else:\n",
    "            unique_genres[g] = 1'''"
   ]
  },
  {
   "cell_type": "code",
   "execution_count": null,
   "metadata": {
    "scrolled": true
   },
   "outputs": [],
   "source": [
    "#unique_genres"
   ]
  },
  {
   "cell_type": "code",
   "execution_count": null,
   "metadata": {},
   "outputs": [],
   "source": [
    "'''filtered_genres = dict()\n",
    "for k,v in unique_genres.items():\n",
    "    if v > 1000:\n",
    "        filtered_genres[k] = v'''"
   ]
  },
  {
   "cell_type": "markdown",
   "metadata": {},
   "source": [
    "# Book Metadata"
   ]
  },
  {
   "cell_type": "code",
   "execution_count": null,
   "metadata": {
    "scrolled": true
   },
   "outputs": [],
   "source": [
    "book = pd.read_csv('gr_metadata_sample.csv')\n",
    "book"
   ]
  },
  {
   "cell_type": "code",
   "execution_count": null,
   "metadata": {
    "scrolled": false
   },
   "outputs": [],
   "source": [
    "book.describe()"
   ]
  },
  {
   "cell_type": "code",
   "execution_count": null,
   "metadata": {},
   "outputs": [],
   "source": [
    "book_am_gr = pd.merge(am_gr, book, how = 'inner', on ='asin')"
   ]
  },
  {
   "cell_type": "code",
   "execution_count": null,
   "metadata": {
    "scrolled": false
   },
   "outputs": [],
   "source": [
    "plt.figure(figsize=(8,12)) \n",
    "sns.violinplot(x=\"rating_diff\", y=\"format\", data=book_am_gr, figsize=(20,50))\n",
    "plt.xlabel('Average rating difference')\n",
    "plt.ylabel('Book format')\n",
    "plt.title('Rating Difference vs Book Format')\n",
    "plt.show()"
   ]
  },
  {
   "cell_type": "code",
   "execution_count": null,
   "metadata": {
    "scrolled": true
   },
   "outputs": [],
   "source": [
    "plt.figure(figsize=(8,12)) \n",
    "sns.violinplot(x=\"amazon_average\", y=\"format\", data=book_am_gr, figsize=(20,50))\n",
    "plt.xlabel('Amazon average rating')\n",
    "plt.ylabel('Book format')\n",
    "plt.title('Amazon Average Rating vs Book Format')\n",
    "plt.show()"
   ]
  },
  {
   "cell_type": "code",
   "execution_count": null,
   "metadata": {
    "scrolled": true
   },
   "outputs": [],
   "source": [
    "plt.figure(figsize=(8,12)) \n",
    "sns.violinplot(x=\"gr_average\", y=\"format\", data=book_am_gr, figsize=(20,50))\n",
    "plt.xlabel('Goodreads average rating')\n",
    "plt.ylabel('Book format')\n",
    "plt.title('Goodreads Average Rating vs Book Format')\n",
    "plt.show()"
   ]
  },
  {
   "cell_type": "code",
   "execution_count": null,
   "metadata": {},
   "outputs": [],
   "source": [
    "book_am_gr = book_am_gr.rename(columns = {'genres_x':'amazon_genres', 'genres_y': 'gr_genres'})"
   ]
  },
  {
   "cell_type": "code",
   "execution_count": null,
   "metadata": {
    "scrolled": false
   },
   "outputs": [],
   "source": [
    "plt.figure(figsize=(8,12)) \n",
    "sns.violinplot(x=\"rating_diff\", y=\"format\", data=book_am_gr, figsize=(20,50))\n",
    "plt.xlabel('Average rating difference')\n",
    "plt.ylabel('Book format')\n",
    "plt.title('Rating Difference vs Book Format')\n",
    "plt.show()"
   ]
  },
  {
   "cell_type": "code",
   "execution_count": null,
   "metadata": {},
   "outputs": [],
   "source": []
  }
 ],
 "metadata": {
  "kernelspec": {
   "display_name": "Python 3",
   "language": "python",
   "name": "python3"
  },
  "language_info": {
   "codemirror_mode": {
    "name": "ipython",
    "version": 3
   },
   "file_extension": ".py",
   "mimetype": "text/x-python",
   "name": "python",
   "nbconvert_exporter": "python",
   "pygments_lexer": "ipython3",
   "version": "3.7.1"
  }
 },
 "nbformat": 4,
 "nbformat_minor": 4
}
