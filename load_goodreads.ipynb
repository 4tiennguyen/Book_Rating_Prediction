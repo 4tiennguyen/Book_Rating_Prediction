{
 "cells": [
  {
   "cell_type": "code",
   "execution_count": 1,
   "metadata": {},
   "outputs": [],
   "source": [
    "# Imports for making dataframe\n",
    "import pandas as pd\n",
    "import numpy as np"
   ]
  },
  {
   "cell_type": "code",
   "execution_count": 2,
   "metadata": {},
   "outputs": [],
   "source": [
    "# Import for crawling Goodreads\n",
    "import requests"
   ]
  },
  {
   "cell_type": "code",
   "execution_count": 3,
   "metadata": {},
   "outputs": [],
   "source": [
    "# Imports for XML\n",
    "from xml.etree import ElementTree"
   ]
  },
  {
   "cell_type": "code",
   "execution_count": 4,
   "metadata": {},
   "outputs": [],
   "source": [
    "# Import for finding texts in HTML\n",
    "from bs4 import BeautifulSoup"
   ]
  },
  {
   "cell_type": "code",
   "execution_count": 5,
   "metadata": {},
   "outputs": [],
   "source": [
    "# Imports for seeing full text reviews\n",
    "from selenium import webdriver\n",
    "from selenium.webdriver.common.by import By\n",
    "from selenium.webdriver.common.keys import Keys\n",
    "from selenium.webdriver.common.action_chains import ActionChains"
   ]
  },
  {
   "cell_type": "code",
   "execution_count": 6,
   "metadata": {},
   "outputs": [],
   "source": [
    "# Goodreads API Developer key\n",
    "key = 'mlUZUnPildWfc5tlXU03w'\n",
    "secret = 'vHaBborkweWsa1J2hB5IN6E4jDM7WlL3Xm0D2bcWAI'"
   ]
  },
  {
   "cell_type": "code",
   "execution_count": 7,
   "metadata": {},
   "outputs": [],
   "source": [
    "## NOTE: FILL IN BEFORE RUNNING CODE\n",
    "# Goodreads login\n",
    "email = ''\n",
    "password = ''"
   ]
  },
  {
   "cell_type": "code",
   "execution_count": 8,
   "metadata": {},
   "outputs": [
    {
     "data": {
      "text/plain": [
       "0      0061690279\n",
       "1      0061690309\n",
       "2      0061690317\n",
       "3      006169035X\n",
       "4      0061690368\n",
       "          ...    \n",
       "245    0061728519\n",
       "246    006172856X\n",
       "247    0061728616\n",
       "248    0061728810\n",
       "249    0061728837\n",
       "Name: asin, Length: 250, dtype: object"
      ]
     },
     "execution_count": 8,
     "metadata": {},
     "output_type": "execute_result"
    }
   ],
   "source": [
    "## NOTE: FILL IN BEFORE RUNNING CODE\n",
    "# Load Amazon data to find reviews of same books from Goodreads\n",
    "amazon = pd.read_csv('asinOnly3_8.csv')\n",
    "books = amazon.asin\n",
    "books"
   ]
  },
  {
   "cell_type": "code",
   "execution_count": 9,
   "metadata": {},
   "outputs": [
    {
     "data": {
      "text/plain": [
       "'### NOTE: COMMENT OUT FOR FULL SET\\n## TEST SUBSET\\ntest = set()\\nfor i,val in enumerate(books):\\n    if i == 3:\\n        break\\n    test.add(val)\\nbooks = test\\nbooks'"
      ]
     },
     "execution_count": 9,
     "metadata": {},
     "output_type": "execute_result"
    }
   ],
   "source": [
    "\"\"\"### NOTE: COMMENT OUT FOR FULL SET\n",
    "## TEST SUBSET\n",
    "test = set()\n",
    "for i,val in enumerate(books):\n",
    "    if i == 3:\n",
    "        break\n",
    "    test.add(val)\n",
    "books = test\n",
    "books\"\"\""
   ]
  },
  {
   "cell_type": "code",
   "execution_count": 10,
   "metadata": {},
   "outputs": [
    {
     "name": "stdout",
     "output_type": "stream",
     "text": [
      "Empty DataFrame\n",
      "Columns: [overall, reviewTime, asin, reviewText]\n",
      "Index: []\n"
     ]
    }
   ],
   "source": [
    "# Create empty dataframe to store Goodreads reviews & ratings\n",
    "column_names = ['overall', 'reviewTime', 'asin', 'reviewText']\n",
    "df = pd.DataFrame(columns = column_names)\n",
    "print(df)"
   ]
  },
  {
   "cell_type": "code",
   "execution_count": 11,
   "metadata": {},
   "outputs": [],
   "source": [
    "# Log in Goodreads\n",
    "driver = webdriver.Chrome()\n",
    "driver.get ('https://www.goodreads.com/user/sign_in?source=home')\n",
    "driver.find_element_by_name('user[email]').send_keys(email)\n",
    "driver.find_element_by_name('user[password]').send_keys(password)\n",
    "driver.find_element_by_name('next').click()                            "
   ]
  },
  {
   "cell_type": "code",
   "execution_count": 12,
   "metadata": {
    "scrolled": false
   },
   "outputs": [],
   "source": [
    "# Get most popular reviews for each book\n",
    "for book in books:\n",
    "    \n",
    "    # Try to look up the book in Goodreads. If a book isn't found it will not be added to the dataset -> DATA CLEANING LATER\n",
    "    try:\n",
    "        #print('TRYING BOOK:', book)\n",
    "        \n",
    "        # Search up book on Goodreads\n",
    "        res = requests.get('https://www.goodreads.com/book/isbn', params={'format': 'xml', 'key': key, 'isbn': book})\n",
    "        \n",
    "        # Get XML from API\n",
    "        root = ElementTree.fromstring(res.text)    \n",
    "        \n",
    "        # Find iframe from XML\n",
    "        iframe = root.find('book').find('reviews_widget').text\n",
    "        \n",
    "        # Parse HTML of XML to find link to reviews\n",
    "        soup = BeautifulSoup(iframe, 'html.parser')\n",
    "        url = soup.find('iframe')['src']\n",
    "        \n",
    "        # Open link to reviews using Selenium\n",
    "        driver.get(str(url))\n",
    "\n",
    "        # PAGE 1: Expand each review to save full text & metadata\n",
    "        # If a book doesn't have reviews, it will not be added to the dataset -> DATA CLEANING LATER\n",
    "        links = driver.find_elements_by_link_text('...more') \n",
    "\n",
    "        for link in links:\n",
    "            # Open review in new tab\n",
    "            ActionChains(driver).move_to_element(link).perform()\n",
    "            link.click()\n",
    "            \n",
    "            # Switch to new tab\n",
    "            driver.switch_to.window(driver.window_handles[1])\n",
    "            s = BeautifulSoup(driver.page_source, 'html.parser')\n",
    "            \n",
    "            # Use BeautifulSoup to check & save reviewTime\n",
    "            time = s.find('span', itemprop='datePublished')\n",
    "            \n",
    "            # Use BeautifulSoup to save rating\n",
    "            rating = s.find('meta', itemprop='ratingValue')\n",
    "            \n",
    "            # Use BeautifulSoup to save text review\n",
    "            review = s.find('div', itemprop='reviewBody')\n",
    "            \n",
    "            # Add review to dataframe\n",
    "            df = df.append({'overall':rating.get('content'), 'reviewTime':time.text.strip(), 'asin':book, \n",
    "                            'reviewText':review.text.strip()}, ignore_index=True)\n",
    "                \n",
    "            driver.close()\n",
    "            driver.switch_to.window(driver.window_handles[0])\n",
    "            \n",
    "        # PAGE 2: Expand each review to save full text & metadata\n",
    "        # If a book doesn't have reviews, it will not be added to the dataset -> DATA CLEANING LATER\n",
    "        driver.find_element_by_link_text('2').click()\n",
    "        links = driver.find_elements_by_link_text('...more') \n",
    "\n",
    "        for link in links:\n",
    "            # Open review in new tab\n",
    "            ActionChains(driver).move_to_element(link).perform()\n",
    "            link.click()\n",
    "            \n",
    "            # Switch to new tab\n",
    "            driver.switch_to.window(driver.window_handles[1])\n",
    "            s = BeautifulSoup(driver.page_source, 'html.parser')\n",
    "            \n",
    "            # Use BeautifulSoup to check & save reviewTime\n",
    "            time = s.find('span', itemprop='datePublished')\n",
    "            \n",
    "            # Use BeautifulSoup to save rating\n",
    "            rating = s.find('meta', itemprop='ratingValue')\n",
    "            \n",
    "            # Use BeautifulSoup to save text review\n",
    "            review = s.find('div', itemprop='reviewBody')\n",
    "            \n",
    "            # Add review to dataframe\n",
    "            df = df.append({'overall':rating.get('content'), 'reviewTime':time.text.strip(), 'asin':book, \n",
    "                            'reviewText':review.text.strip()}, ignore_index=True)\n",
    "                \n",
    "            driver.close()           \n",
    "            driver.switch_to.window(driver.window_handles[0])\n",
    "            \n",
    "        # PAGE 3: Expand each review to save full text & metadata\n",
    "        # If a book doesn't have reviews, it will not be added to the dataset -> DATA CLEANING LATER\n",
    "        driver.find_element_by_link_text('3').click()\n",
    "        links = driver.find_elements_by_link_text('...more') \n",
    "\n",
    "        for link in links:\n",
    "            # Open review in new tab\n",
    "            ActionChains(driver).move_to_element(link).perform()\n",
    "            link.click()\n",
    "            \n",
    "            # Switch to new tab\n",
    "            driver.switch_to.window(driver.window_handles[1])\n",
    "            s = BeautifulSoup(driver.page_source, 'html.parser')\n",
    "            \n",
    "            # Use BeautifulSoup to check & save reviewTime\n",
    "            time = s.find('span', itemprop='datePublished')\n",
    "            \n",
    "            # Use BeautifulSoup to save rating\n",
    "            rating = s.find('meta', itemprop='ratingValue')\n",
    "            \n",
    "            # Use BeautifulSoup to save text review\n",
    "            review = s.find('div', itemprop='reviewBody')\n",
    "            \n",
    "            # Add review to dataframe\n",
    "            df = df.append({'overall':rating.get('content'), 'reviewTime':time.text.strip(), 'asin':book, \n",
    "                            'reviewText':review.text.strip()}, ignore_index=True)\n",
    "                \n",
    "            driver.close()           \n",
    "            driver.switch_to.window(driver.window_handles[0])\n",
    "            \n",
    "    except:\n",
    "        pass\n",
    "        #print('   NOT FOUND')"
   ]
  },
  {
   "cell_type": "code",
   "execution_count": 13,
   "metadata": {
    "scrolled": false
   },
   "outputs": [
    {
     "data": {
      "text/html": [
       "<div>\n",
       "<style scoped>\n",
       "    .dataframe tbody tr th:only-of-type {\n",
       "        vertical-align: middle;\n",
       "    }\n",
       "\n",
       "    .dataframe tbody tr th {\n",
       "        vertical-align: top;\n",
       "    }\n",
       "\n",
       "    .dataframe thead th {\n",
       "        text-align: right;\n",
       "    }\n",
       "</style>\n",
       "<table border=\"1\" class=\"dataframe\">\n",
       "  <thead>\n",
       "    <tr style=\"text-align: right;\">\n",
       "      <th></th>\n",
       "      <th>overall</th>\n",
       "      <th>reviewTime</th>\n",
       "      <th>asin</th>\n",
       "      <th>reviewText</th>\n",
       "    </tr>\n",
       "  </thead>\n",
       "  <tbody>\n",
       "    <tr>\n",
       "      <td>0</td>\n",
       "      <td>2</td>\n",
       "      <td>Jun 25, 2011</td>\n",
       "      <td>0061690279</td>\n",
       "      <td>This is the funniest unintentionally funny boo...</td>\n",
       "    </tr>\n",
       "    <tr>\n",
       "      <td>1</td>\n",
       "      <td>2</td>\n",
       "      <td>Jul 31, 2011</td>\n",
       "      <td>0061690279</td>\n",
       "      <td>I checked this book out of the library after m...</td>\n",
       "    </tr>\n",
       "    <tr>\n",
       "      <td>2</td>\n",
       "      <td>2</td>\n",
       "      <td>Jun 07, 2011</td>\n",
       "      <td>0061690279</td>\n",
       "      <td>I was really intrigued by this book at the sta...</td>\n",
       "    </tr>\n",
       "    <tr>\n",
       "      <td>3</td>\n",
       "      <td>3</td>\n",
       "      <td>Aug 20, 2011</td>\n",
       "      <td>0061690279</td>\n",
       "      <td>I am actually not sure who I would recommend t...</td>\n",
       "    </tr>\n",
       "    <tr>\n",
       "      <td>4</td>\n",
       "      <td>5</td>\n",
       "      <td>May 07, 2012</td>\n",
       "      <td>0061690279</td>\n",
       "      <td>Although I didn't share Gilman's understanding...</td>\n",
       "    </tr>\n",
       "    <tr>\n",
       "      <td>...</td>\n",
       "      <td>...</td>\n",
       "      <td>...</td>\n",
       "      <td>...</td>\n",
       "      <td>...</td>\n",
       "    </tr>\n",
       "    <tr>\n",
       "      <td>6536</td>\n",
       "      <td>3</td>\n",
       "      <td>Dec 23, 2012</td>\n",
       "      <td>0061728837</td>\n",
       "      <td>Buku ini unik. Jalan ceritanya sih biasa aja, ...</td>\n",
       "    </tr>\n",
       "    <tr>\n",
       "      <td>6537</td>\n",
       "      <td>1</td>\n",
       "      <td>Mar 23, 2009</td>\n",
       "      <td>0061728837</td>\n",
       "      <td>BELIEVE (Romance/TT) - NRAlexander, VictoriaFr...</td>\n",
       "    </tr>\n",
       "    <tr>\n",
       "      <td>6538</td>\n",
       "      <td>1</td>\n",
       "      <td>Jun 22, 2010</td>\n",
       "      <td>0061728837</td>\n",
       "      <td>Normally I sort of like Victoria Alexander's h...</td>\n",
       "    </tr>\n",
       "    <tr>\n",
       "      <td>6539</td>\n",
       "      <td>5</td>\n",
       "      <td>May 18, 2011</td>\n",
       "      <td>0061728837</td>\n",
       "      <td>Tessa is a teacher who does not like the Middl...</td>\n",
       "    </tr>\n",
       "    <tr>\n",
       "      <td>6540</td>\n",
       "      <td>1</td>\n",
       "      <td>Nov 02, 2016</td>\n",
       "      <td>0061728837</td>\n",
       "      <td>White Knights, Myths and MagicTessa St. James ...</td>\n",
       "    </tr>\n",
       "  </tbody>\n",
       "</table>\n",
       "<p>6541 rows × 4 columns</p>\n",
       "</div>"
      ],
      "text/plain": [
       "     overall    reviewTime        asin  \\\n",
       "0          2  Jun 25, 2011  0061690279   \n",
       "1          2  Jul 31, 2011  0061690279   \n",
       "2          2  Jun 07, 2011  0061690279   \n",
       "3          3  Aug 20, 2011  0061690279   \n",
       "4          5  May 07, 2012  0061690279   \n",
       "...      ...           ...         ...   \n",
       "6536       3  Dec 23, 2012  0061728837   \n",
       "6537       1  Mar 23, 2009  0061728837   \n",
       "6538       1  Jun 22, 2010  0061728837   \n",
       "6539       5  May 18, 2011  0061728837   \n",
       "6540       1  Nov 02, 2016  0061728837   \n",
       "\n",
       "                                             reviewText  \n",
       "0     This is the funniest unintentionally funny boo...  \n",
       "1     I checked this book out of the library after m...  \n",
       "2     I was really intrigued by this book at the sta...  \n",
       "3     I am actually not sure who I would recommend t...  \n",
       "4     Although I didn't share Gilman's understanding...  \n",
       "...                                                 ...  \n",
       "6536  Buku ini unik. Jalan ceritanya sih biasa aja, ...  \n",
       "6537  BELIEVE (Romance/TT) - NRAlexander, VictoriaFr...  \n",
       "6538  Normally I sort of like Victoria Alexander's h...  \n",
       "6539  Tessa is a teacher who does not like the Middl...  \n",
       "6540  White Knights, Myths and MagicTessa St. James ...  \n",
       "\n",
       "[6541 rows x 4 columns]"
      ]
     },
     "execution_count": 13,
     "metadata": {},
     "output_type": "execute_result"
    }
   ],
   "source": [
    "df"
   ]
  },
  {
   "cell_type": "code",
   "execution_count": 14,
   "metadata": {},
   "outputs": [],
   "source": [
    "## NOTE: CHANGE FILE NAME BEFORE RUNNING CODE\n",
    "df.to_csv('grData3_8.csv',index=False)"
   ]
  }
 ],
 "metadata": {
  "kernelspec": {
   "display_name": "Python 3",
   "language": "python",
   "name": "python3"
  },
  "language_info": {
   "codemirror_mode": {
    "name": "ipython",
    "version": 3
   },
   "file_extension": ".py",
   "mimetype": "text/x-python",
   "name": "python",
   "nbconvert_exporter": "python",
   "pygments_lexer": "ipython3",
   "version": "3.7.4"
  }
 },
 "nbformat": 4,
 "nbformat_minor": 2
}
