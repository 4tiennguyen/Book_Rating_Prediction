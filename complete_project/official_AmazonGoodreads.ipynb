{
 "cells": [
  {
   "cell_type": "code",
   "execution_count": 1,
   "metadata": {},
   "outputs": [],
   "source": [
    "import numpy as np\n",
    "import pandas as pd\n",
    "import json"
   ]
  },
  {
   "cell_type": "code",
   "execution_count": 2,
   "metadata": {},
   "outputs": [],
   "source": [
    "#Prevent Large File crashing on Jupyter Notebook\n",
    "import os\n",
    "os.environ['KMP_DUPLICATE_LIB_OK'] = 'True'"
   ]
  },
  {
   "cell_type": "code",
   "execution_count": 3,
   "metadata": {},
   "outputs": [],
   "source": [
    "asinSet= set()\n",
    "with open('bookId_Asin.csv', 'r') as f:\n",
    "    for line in f:\n",
    "        line = line.strip().split(',')\n",
    "        asinSet.add(line[1])"
   ]
  },
  {
   "cell_type": "code",
   "execution_count": 4,
   "metadata": {},
   "outputs": [
    {
     "name": "stdout",
     "output_type": "stream",
     "text": [
      "dict_keys(['overall', 'verified', 'reviewTime', 'reviewerID', 'asin', 'reviewerName', 'reviewText', 'summary', 'unixReviewTime'])\n",
      "51311620\n"
     ]
    }
   ],
   "source": [
    "\n",
    "l = []\n",
    "with open('complete_Books.json', 'r') as f:\n",
    "    with open('amazon_official.tsv', 'w') as g:\n",
    "        g.write('overall' + '\\t' + 'reviewTime' + '\\t' + 'asin'+'\\t' + 'reviewText' + '\\n')\n",
    "        for i, line in enumerate(f):\n",
    "            j = json.loads(line)\n",
    "            if j['asin'] in asinSet:\n",
    "                if not 'reviewText' in j: \n",
    "                    g.write(str(j['overall']) + '\\t' + j['reviewTime'].replace(\",\",\" \") + '\\t'+ j['asin'] + '\\t' + '' + '\\n' )\n",
    "                else :\n",
    "                    #l.append([j['overall'], j['reviewTime'], j['asin'], j['reviewText']])\n",
    "                    g.write(str(j['overall']) + '\\t' + j['reviewTime'].replace(\",\",\" \")  + '\\t'+ j['asin'] + '\\t' + j['reviewText'].replace(\"\\n\",\" \") + '\\n' )\n",
    "                \n",
    "            \n",
    "    print(j.keys())\n",
    "    print(i)"
   ]
  },
  {
   "cell_type": "code",
   "execution_count": 5,
   "metadata": {},
   "outputs": [],
   "source": [
    "asinDict = {}\n",
    "textCount = {}\n",
    "with open('amazon_official.tsv', 'r') as f:\n",
    "    next(f)\n",
    "    for i,line in enumerate(f):\n",
    "        line = line.strip().split('\\t')\n",
    "        overall = float(line[0])\n",
    "        asin = line[2]\n",
    "        if not asin in asinDict :\n",
    "            textCount[asin]=0\n",
    "            asinDict[asin] =[]\n",
    "        asinDict[asin].append(overall)\n",
    "        if len(line) > 3:\n",
    "            textCount[asin] +=1\n",
    "        "
   ]
  },
  {
   "cell_type": "code",
   "execution_count": 6,
   "metadata": {},
   "outputs": [],
   "source": [
    "#Calculate average of each book\n",
    "average = {}\n",
    "for asin in asinDict:\n",
    "    average[asin]=np.round(sum(asinDict[asin])/len(asinDict[asin]),2)"
   ]
  },
  {
   "cell_type": "code",
   "execution_count": 7,
   "metadata": {},
   "outputs": [],
   "source": [
    "#Number of ratings of each book\n",
    "rating_count = {}\n",
    "for asin in asinDict:\n",
    "    rating_count[asin] = len(asinDict[asin])"
   ]
  },
  {
   "cell_type": "code",
   "execution_count": 8,
   "metadata": {},
   "outputs": [],
   "source": [
    "#Number of text revirws of each book\n",
    "text_reviews_count = {}\n",
    "for asin in asinDict:\n",
    "    text_reviews_count[asin] = textCount[asin]"
   ]
  },
  {
   "cell_type": "code",
   "execution_count": 9,
   "metadata": {},
   "outputs": [],
   "source": [
    "result = { asin: [asin,average[asin], rating_count[asin], text_reviews_count[asin] ] for asin in asinDict }"
   ]
  },
  {
   "cell_type": "code",
   "execution_count": 10,
   "metadata": {},
   "outputs": [],
   "source": [
    "amazon= pd.DataFrame.from_dict(result,orient='index')\n",
    "amazon.columns = ['asin', 'average', 'rating_count','text_reviews_count']"
   ]
  },
  {
   "cell_type": "code",
   "execution_count": 11,
   "metadata": {},
   "outputs": [
    {
     "data": {
      "text/html": [
       "<div>\n",
       "<style scoped>\n",
       "    .dataframe tbody tr th:only-of-type {\n",
       "        vertical-align: middle;\n",
       "    }\n",
       "\n",
       "    .dataframe tbody tr th {\n",
       "        vertical-align: top;\n",
       "    }\n",
       "\n",
       "    .dataframe thead th {\n",
       "        text-align: right;\n",
       "    }\n",
       "</style>\n",
       "<table border=\"1\" class=\"dataframe\">\n",
       "  <thead>\n",
       "    <tr style=\"text-align: right;\">\n",
       "      <th></th>\n",
       "      <th>asin</th>\n",
       "      <th>average</th>\n",
       "      <th>rating_count</th>\n",
       "      <th>text_reviews_count</th>\n",
       "    </tr>\n",
       "  </thead>\n",
       "  <tbody>\n",
       "    <tr>\n",
       "      <td>0</td>\n",
       "      <td>0001713353</td>\n",
       "      <td>4.83</td>\n",
       "      <td>54</td>\n",
       "      <td>54</td>\n",
       "    </tr>\n",
       "    <tr>\n",
       "      <td>1</td>\n",
       "      <td>0001061240</td>\n",
       "      <td>4.87</td>\n",
       "      <td>45</td>\n",
       "      <td>45</td>\n",
       "    </tr>\n",
       "    <tr>\n",
       "      <td>2</td>\n",
       "      <td>0001711296</td>\n",
       "      <td>4.44</td>\n",
       "      <td>107</td>\n",
       "      <td>107</td>\n",
       "    </tr>\n",
       "    <tr>\n",
       "      <td>3</td>\n",
       "      <td>0002007649</td>\n",
       "      <td>3.37</td>\n",
       "      <td>19</td>\n",
       "      <td>19</td>\n",
       "    </tr>\n",
       "    <tr>\n",
       "      <td>4</td>\n",
       "      <td>0001716069</td>\n",
       "      <td>4.61</td>\n",
       "      <td>59</td>\n",
       "      <td>59</td>\n",
       "    </tr>\n",
       "    <tr>\n",
       "      <td>...</td>\n",
       "      <td>...</td>\n",
       "      <td>...</td>\n",
       "      <td>...</td>\n",
       "      <td>...</td>\n",
       "    </tr>\n",
       "    <tr>\n",
       "      <td>37266</td>\n",
       "      <td>0312943636</td>\n",
       "      <td>4.17</td>\n",
       "      <td>24</td>\n",
       "      <td>24</td>\n",
       "    </tr>\n",
       "    <tr>\n",
       "      <td>37267</td>\n",
       "      <td>0312953038</td>\n",
       "      <td>4.00</td>\n",
       "      <td>27</td>\n",
       "      <td>27</td>\n",
       "    </tr>\n",
       "    <tr>\n",
       "      <td>37268</td>\n",
       "      <td>0312955154</td>\n",
       "      <td>3.29</td>\n",
       "      <td>14</td>\n",
       "      <td>14</td>\n",
       "    </tr>\n",
       "    <tr>\n",
       "      <td>37269</td>\n",
       "      <td>0312956878</td>\n",
       "      <td>3.33</td>\n",
       "      <td>15</td>\n",
       "      <td>15</td>\n",
       "    </tr>\n",
       "    <tr>\n",
       "      <td>37270</td>\n",
       "      <td>0312947763</td>\n",
       "      <td>2.30</td>\n",
       "      <td>33</td>\n",
       "      <td>33</td>\n",
       "    </tr>\n",
       "  </tbody>\n",
       "</table>\n",
       "<p>37271 rows × 4 columns</p>\n",
       "</div>"
      ],
      "text/plain": [
       "             asin  average  rating_count  text_reviews_count\n",
       "0      0001713353     4.83            54                  54\n",
       "1      0001061240     4.87            45                  45\n",
       "2      0001711296     4.44           107                 107\n",
       "3      0002007649     3.37            19                  19\n",
       "4      0001716069     4.61            59                  59\n",
       "...           ...      ...           ...                 ...\n",
       "37266  0312943636     4.17            24                  24\n",
       "37267  0312953038     4.00            27                  27\n",
       "37268  0312955154     3.29            14                  14\n",
       "37269  0312956878     3.33            15                  15\n",
       "37270  0312947763     2.30            33                  33\n",
       "\n",
       "[37271 rows x 4 columns]"
      ]
     },
     "execution_count": 11,
     "metadata": {},
     "output_type": "execute_result"
    }
   ],
   "source": [
    "amazon.reset_index(drop=True)"
   ]
  },
  {
   "cell_type": "code",
   "execution_count": 12,
   "metadata": {},
   "outputs": [],
   "source": [
    "amazon.to_csv('metadata_amazon.csv', index = False)"
   ]
  },
  {
   "cell_type": "markdown",
   "metadata": {},
   "source": [
    "# ---------------------------------------\n",
    "## Merging with genres dataset"
   ]
  },
  {
   "cell_type": "code",
   "execution_count": 13,
   "metadata": {},
   "outputs": [
    {
     "data": {
      "text/plain": [
       "Index(['asin', 'genres'], dtype='object')"
      ]
     },
     "execution_count": 13,
     "metadata": {},
     "output_type": "execute_result"
    }
   ],
   "source": [
    "genres = pd.read_csv('genres_amazon.csv')\n",
    "g = pd.DataFrame(genres)\n",
    "g.columns"
   ]
  },
  {
   "cell_type": "code",
   "execution_count": 14,
   "metadata": {},
   "outputs": [],
   "source": [
    "amazon = pd.read_csv('metadata_amazon.csv')\n",
    "a = pd.DataFrame(amazon)"
   ]
  },
  {
   "cell_type": "code",
   "execution_count": 15,
   "metadata": {},
   "outputs": [],
   "source": [
    "meta = pd.merge(a,g, on='asin', how='inner')"
   ]
  },
  {
   "cell_type": "code",
   "execution_count": 16,
   "metadata": {},
   "outputs": [
    {
     "data": {
      "text/plain": [
       "asin                    0\n",
       "average                 0\n",
       "rating_count            0\n",
       "text_reviews_count      0\n",
       "genres                846\n",
       "dtype: int64"
      ]
     },
     "execution_count": 16,
     "metadata": {},
     "output_type": "execute_result"
    }
   ],
   "source": [
    "meta.isnull().sum()"
   ]
  },
  {
   "cell_type": "code",
   "execution_count": 17,
   "metadata": {},
   "outputs": [],
   "source": [
    "new_meta = meta.copy()"
   ]
  },
  {
   "cell_type": "code",
   "execution_count": 18,
   "metadata": {},
   "outputs": [],
   "source": [
    "new_meta['genres']=new_meta['genres'].astype(str).apply(lambda st: st[st.find(\"[\")+1:st.find(\"]\")]).str.replace('\\'', '').str.replace('\\\"', '')"
   ]
  },
  {
   "cell_type": "code",
   "execution_count": 19,
   "metadata": {},
   "outputs": [],
   "source": [
    "new_meta['genres'] = new_meta['genres'].str.replace('Books,','',1).str.replace(' Genre','').str.replace(' Arts','Art')\n",
    "new_meta['genres'] = new_meta['genres'].str.replace(', & Style','',1).str.replace(', ,','')"
   ]
  },
  {
   "cell_type": "code",
   "execution_count": 20,
   "metadata": {},
   "outputs": [],
   "source": [
    "new_meta.to_csv('amazon_metadata.csv', index = False)"
   ]
  },
  {
   "cell_type": "markdown",
   "metadata": {},
   "source": [
    "# ----------------------------------------------------------------\n"
   ]
  },
  {
   "cell_type": "code",
   "execution_count": 21,
   "metadata": {},
   "outputs": [],
   "source": [
    "### l = []\n",
    "with open('amazon_official.tsv', 'r') as f:\n",
    "    with open('amazon_textOnly_official.tsv', 'w') as g:\n",
    "        #g.write('overall' + '\\t' + 'reviewTime' + '\\t' + 'asin'+','+'reviewText' + '\\n')\n",
    "        for i, line in enumerate(f):\n",
    "            line = line.strip().split('\\t')\n",
    "            asin = line[2]\n",
    "            \n",
    "            if len(line) > 3:\n",
    "                text = line[3] \n",
    "                g.write(asin + '\\t' + text + '\\n' )\n",
    "            else:\n",
    "                g.write(asin + '\\t' +''+ '\\n' )"
   ]
  },
  {
   "cell_type": "code",
   "execution_count": 22,
   "metadata": {},
   "outputs": [],
   "source": []
  },
  {
   "cell_type": "code",
   "execution_count": null,
   "metadata": {},
   "outputs": [],
   "source": []
  }
 ],
 "metadata": {
  "kernelspec": {
   "display_name": "Python 3",
   "language": "python",
   "name": "python3"
  },
  "language_info": {
   "codemirror_mode": {
    "name": "ipython",
    "version": 3
   },
   "file_extension": ".py",
   "mimetype": "text/x-python",
   "name": "python",
   "nbconvert_exporter": "python",
   "pygments_lexer": "ipython3",
   "version": "3.7.3"
  }
 },
 "nbformat": 4,
 "nbformat_minor": 4
}
