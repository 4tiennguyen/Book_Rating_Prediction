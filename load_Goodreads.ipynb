{
 "cells": [
  {
   "cell_type": "code",
   "execution_count": 1,
   "metadata": {},
   "outputs": [],
   "source": [
    "# Imports for making dataframe\n",
    "import pandas as pd\n",
    "import numpy as np"
   ]
  },
  {
   "cell_type": "code",
   "execution_count": 2,
   "metadata": {},
   "outputs": [],
   "source": [
    "# Imports for crawling for HTML -> JSON\n",
    "import requests\n",
    "import json"
   ]
  },
  {
   "cell_type": "code",
   "execution_count": 3,
   "metadata": {},
   "outputs": [],
   "source": [
    "# Import for finding texts in HTML JSON\n",
    "from bs4 import BeautifulSoup"
   ]
  },
  {
   "cell_type": "code",
   "execution_count": 4,
   "metadata": {},
   "outputs": [],
   "source": [
    "# Imports for seeing full text reviews\n",
    "from selenium import webdriver\n",
    "from selenium.webdriver.common.by import By\n",
    "from selenium.webdriver.common.keys import Keys\n",
    "from selenium.webdriver.common.action_chains import ActionChains"
   ]
  },
  {
   "cell_type": "code",
   "execution_count": 5,
   "metadata": {},
   "outputs": [
    {
     "data": {
      "text/html": [
       "<div>\n",
       "<style scoped>\n",
       "    .dataframe tbody tr th:only-of-type {\n",
       "        vertical-align: middle;\n",
       "    }\n",
       "\n",
       "    .dataframe tbody tr th {\n",
       "        vertical-align: top;\n",
       "    }\n",
       "\n",
       "    .dataframe thead th {\n",
       "        text-align: right;\n",
       "    }\n",
       "</style>\n",
       "<table border=\"1\" class=\"dataframe\">\n",
       "  <thead>\n",
       "    <tr style=\"text-align: right;\">\n",
       "      <th></th>\n",
       "      <th>overall</th>\n",
       "      <th>reviewTime</th>\n",
       "      <th>asin</th>\n",
       "      <th>reviewText</th>\n",
       "    </tr>\n",
       "  </thead>\n",
       "  <tbody>\n",
       "    <tr>\n",
       "      <td>0</td>\n",
       "      <td>5.0</td>\n",
       "      <td>03 30, 2005</td>\n",
       "      <td>0001713353</td>\n",
       "      <td>The King, the Mice and the Cheese by Nancy Gur...</td>\n",
       "    </tr>\n",
       "    <tr>\n",
       "      <td>1</td>\n",
       "      <td>5.0</td>\n",
       "      <td>12 27, 2012</td>\n",
       "      <td>0001713353</td>\n",
       "      <td>This was one of my favorites when I was a smal...</td>\n",
       "    </tr>\n",
       "    <tr>\n",
       "      <td>2</td>\n",
       "      <td>5.0</td>\n",
       "      <td>08 15, 2011</td>\n",
       "      <td>0001713353</td>\n",
       "      <td>So, you think you have problems? Things could ...</td>\n",
       "    </tr>\n",
       "    <tr>\n",
       "      <td>3</td>\n",
       "      <td>5.0</td>\n",
       "      <td>11 24, 2008</td>\n",
       "      <td>0001713353</td>\n",
       "      <td>My mom bought this for my oldest son.  He and ...</td>\n",
       "    </tr>\n",
       "    <tr>\n",
       "      <td>4</td>\n",
       "      <td>3.0</td>\n",
       "      <td>09 18, 2006</td>\n",
       "      <td>0001713353</td>\n",
       "      <td>41 years later:\\n\\nThe cheese is government ch...</td>\n",
       "    </tr>\n",
       "    <tr>\n",
       "      <td>...</td>\n",
       "      <td>...</td>\n",
       "      <td>...</td>\n",
       "      <td>...</td>\n",
       "      <td>...</td>\n",
       "    </tr>\n",
       "    <tr>\n",
       "      <td>115439</td>\n",
       "      <td>5.0</td>\n",
       "      <td>11 27, 1999</td>\n",
       "      <td>0030554179</td>\n",
       "      <td>\"All animals are equal, but some are more equa...</td>\n",
       "    </tr>\n",
       "    <tr>\n",
       "      <td>115440</td>\n",
       "      <td>5.0</td>\n",
       "      <td>09 9, 1999</td>\n",
       "      <td>0030554179</td>\n",
       "      <td>It's a story about animals who take over a far...</td>\n",
       "    </tr>\n",
       "    <tr>\n",
       "      <td>115441</td>\n",
       "      <td>5.0</td>\n",
       "      <td>07 27, 1999</td>\n",
       "      <td>0030554179</td>\n",
       "      <td>We should not be content to reduce this book t...</td>\n",
       "    </tr>\n",
       "    <tr>\n",
       "      <td>115442</td>\n",
       "      <td>5.0</td>\n",
       "      <td>06 5, 1999</td>\n",
       "      <td>0030554179</td>\n",
       "      <td>George Orwell is the pseudonym of Eric A. Blai...</td>\n",
       "    </tr>\n",
       "    <tr>\n",
       "      <td>115443</td>\n",
       "      <td>5.0</td>\n",
       "      <td>01 8, 1999</td>\n",
       "      <td>0030554179</td>\n",
       "      <td>Even if you know nothing about Communism, read...</td>\n",
       "    </tr>\n",
       "  </tbody>\n",
       "</table>\n",
       "<p>115444 rows × 4 columns</p>\n",
       "</div>"
      ],
      "text/plain": [
       "        overall   reviewTime        asin  \\\n",
       "0           5.0  03 30, 2005  0001713353   \n",
       "1           5.0  12 27, 2012  0001713353   \n",
       "2           5.0  08 15, 2011  0001713353   \n",
       "3           5.0  11 24, 2008  0001713353   \n",
       "4           3.0  09 18, 2006  0001713353   \n",
       "...         ...          ...         ...   \n",
       "115439      5.0  11 27, 1999  0030554179   \n",
       "115440      5.0   09 9, 1999  0030554179   \n",
       "115441      5.0  07 27, 1999  0030554179   \n",
       "115442      5.0   06 5, 1999  0030554179   \n",
       "115443      5.0   01 8, 1999  0030554179   \n",
       "\n",
       "                                               reviewText  \n",
       "0       The King, the Mice and the Cheese by Nancy Gur...  \n",
       "1       This was one of my favorites when I was a smal...  \n",
       "2       So, you think you have problems? Things could ...  \n",
       "3       My mom bought this for my oldest son.  He and ...  \n",
       "4       41 years later:\\n\\nThe cheese is government ch...  \n",
       "...                                                   ...  \n",
       "115439  \"All animals are equal, but some are more equa...  \n",
       "115440  It's a story about animals who take over a far...  \n",
       "115441  We should not be content to reduce this book t...  \n",
       "115442  George Orwell is the pseudonym of Eric A. Blai...  \n",
       "115443  Even if you know nothing about Communism, read...  \n",
       "\n",
       "[115444 rows x 4 columns]"
      ]
     },
     "execution_count": 5,
     "metadata": {},
     "output_type": "execute_result"
    }
   ],
   "source": [
    "# Load Amazon data to find reviews of same books from Goodreads\n",
    "amazon = pd.read_csv('amazonData.csv')\n",
    "amazon"
   ]
  },
  {
   "cell_type": "code",
   "execution_count": 6,
   "metadata": {
    "scrolled": true
   },
   "outputs": [
    {
     "name": "stdout",
     "output_type": "stream",
     "text": [
      "3007\n"
     ]
    }
   ],
   "source": [
    "# Unique set of books to crawl from Goodreads\n",
    "books = set(amazon.asin)\n",
    "print(len(books))"
   ]
  },
  {
   "cell_type": "code",
   "execution_count": 9,
   "metadata": {},
   "outputs": [
    {
     "name": "stdout",
     "output_type": "stream",
     "text": [
      "Empty DataFrame\n",
      "Columns: [overall, reviewTime, asin, reviewText]\n",
      "Index: []\n"
     ]
    }
   ],
   "source": [
    "# Create empty dataframe to store Goodreads reviews & ratings\n",
    "column_names = ['overall', 'reviewTime', 'asin', 'reviewText']\n",
    "df = pd.DataFrame(columns = column_names)\n",
    "print(df)"
   ]
  },
  {
   "cell_type": "code",
   "execution_count": 10,
   "metadata": {},
   "outputs": [],
   "source": [
    "# Goodreads API Developer key\n",
    "key = 'mTBsGSOvfBaN0OF25U5g'\n",
    "secret = 'AkIOvUnGYksPPicdwWfQVStbr61O0YzzrVu1ZUmpGA'"
   ]
  },
  {
   "cell_type": "code",
   "execution_count": 11,
   "metadata": {},
   "outputs": [],
   "source": [
    "# Log in Goodreads\n",
    "driver = webdriver.Chrome()\n",
    "driver.get ('https://www.goodreads.com/user/sign_in?source=home')\n",
    "driver.find_element_by_name('user[email]').send_keys('@uci.edu') ## ENTER EMAIL\n",
    "driver.find_element_by_name('user[password]').send_keys('') ## ENTER PASSWORD\n",
    "driver.find_element_by_name('next').click()                            "
   ]
  },
  {
   "cell_type": "code",
   "execution_count": 12,
   "metadata": {},
   "outputs": [],
   "source": [
    "# Set of books not found on Goodreads:\n",
    "notfound = set()"
   ]
  },
  {
   "cell_type": "code",
   "execution_count": 13,
   "metadata": {
    "scrolled": false
   },
   "outputs": [
    {
     "name": "stdout",
     "output_type": "stream",
     "text": [
      "{'0007364199', '000274080X', '003010274X', '0007337914', '0004707532'}\n",
      "TRYING BOOK: 0007364199\n",
      "COUNT: 0\n",
      "TRYING BOOK: 000274080X\n",
      "BOOK NOT FOUND: 000274080X\n",
      "TRYING BOOK: 003010274X\n",
      "COUNT: 0\n",
      "TRYING BOOK: 0007337914\n",
      "COUNT: 5\n",
      "CURRENT URL: https://www.goodreads.com/review/show/768883795?utm_campaign=reviews&utm_medium=widget&utm_source=%28direct%29\n",
      "CURRENT URL: https://www.goodreads.com/review/show/702251812?utm_campaign=reviews&utm_medium=widget&utm_source=%28direct%29\n",
      "CURRENT URL: https://www.goodreads.com/review/show/1629787670?utm_campaign=reviews&utm_medium=widget&utm_source=%28direct%29\n",
      "CURRENT URL: https://www.goodreads.com/review/show/2166992587?utm_campaign=reviews&utm_medium=widget&utm_source=%28direct%29\n",
      "CURRENT URL: https://www.goodreads.com/review/show/59263833?utm_campaign=reviews&utm_medium=widget&utm_source=%28direct%29\n",
      "TRYING BOOK: 0004707532\n",
      "BOOK NOT FOUND: 0004707532\n"
     ]
    }
   ],
   "source": [
    "# Get most popular reviews for each book (10 if there are more than 10 reviews, or all reviews if less)\n",
    "print(books)\n",
    "for book in books:\n",
    "    # Try to look up the book in Goodreads. If a book isn't found it will not be added to the dataset -> DATA CLEANING LATER\n",
    "    try:\n",
    "        res = requests.get('https://www.goodreads.com/book/show.json', params={'key': key, 'id': book, 'text_only': True})\n",
    "        data = res.json()\n",
    "        # Parse HTML JSON to find link to reviews\n",
    "        soup = BeautifulSoup(data['reviews_widget'], 'html.parser')\n",
    "        url = soup.find('iframe')['src']\n",
    "        # Open link to reviews using Selenium\n",
    "        driver.get(url)\n",
    "        # Expand each review to save full text & metadata\n",
    "        links = driver.find_elements_by_link_text('...more')\n",
    "        # Count number of reviews to make sure there are <= 10 reviews for each book\n",
    "        count = 0\n",
    "        for link in links:\n",
    "            if count == 10:\n",
    "                break\n",
    "            ActionChains(driver).move_to_element(link).perform()\n",
    "            link.click() # If a book doesn't have reviews, it will not be added to the dataset -> DATA CLEANING LATER\n",
    "            count += 1\n",
    "        for i in range(count):\n",
    "            driver.switch_to.window(driver.window_handles[1])\n",
    "            s = BeautifulSoup(driver.page_source, 'html.parser')\n",
    "            # Use BeautifulSoup to save rating\n",
    "            rating = s.find('meta', itemprop='ratingValue')\n",
    "            # Use BeautifulSoup to save reviewTime\n",
    "            time = s.find('span', itemprop='datePublished')\n",
    "            # Use BeautifulSoup to save text review\n",
    "            review = s.find('div', itemprop='reviewBody')\n",
    "            # Add review to dataframe\n",
    "            df = df.append({'overall':rating.text, 'reviewTime':time.text.strip(), 'asin':book, 'reviewText':review.text.strip()}, ignore_index=True)\n",
    "            driver.close()\n",
    "    except:\n",
    "        notfound.add(book)"
   ]
  },
  {
   "cell_type": "code",
   "execution_count": 14,
   "metadata": {
    "scrolled": true
   },
   "outputs": [
    {
     "data": {
      "text/html": [
       "<div>\n",
       "<style scoped>\n",
       "    .dataframe tbody tr th:only-of-type {\n",
       "        vertical-align: middle;\n",
       "    }\n",
       "\n",
       "    .dataframe tbody tr th {\n",
       "        vertical-align: top;\n",
       "    }\n",
       "\n",
       "    .dataframe thead th {\n",
       "        text-align: right;\n",
       "    }\n",
       "</style>\n",
       "<table border=\"1\" class=\"dataframe\">\n",
       "  <thead>\n",
       "    <tr style=\"text-align: right;\">\n",
       "      <th></th>\n",
       "      <th>overall</th>\n",
       "      <th>reviewTime</th>\n",
       "      <th>asin</th>\n",
       "      <th>reviewText</th>\n",
       "    </tr>\n",
       "  </thead>\n",
       "  <tbody>\n",
       "    <tr>\n",
       "      <td>0</td>\n",
       "      <td></td>\n",
       "      <td>Nov 19, 2013</td>\n",
       "      <td>2956</td>\n",
       "      <td>This book is filled with lots of examples. Som...</td>\n",
       "    </tr>\n",
       "    <tr>\n",
       "      <td>1</td>\n",
       "      <td></td>\n",
       "      <td>Aug 23, 2013</td>\n",
       "      <td>2956</td>\n",
       "      <td>What can I say? This book secured me an A+ on ...</td>\n",
       "    </tr>\n",
       "    <tr>\n",
       "      <td>2</td>\n",
       "      <td></td>\n",
       "      <td>May 05, 2016</td>\n",
       "      <td>2956</td>\n",
       "      <td>This book is so helpful for beginners in resea...</td>\n",
       "    </tr>\n",
       "    <tr>\n",
       "      <td>3</td>\n",
       "      <td></td>\n",
       "      <td>Oct 28, 2017</td>\n",
       "      <td>2956</td>\n",
       "      <td>Very instructive. Very boring.</td>\n",
       "    </tr>\n",
       "    <tr>\n",
       "      <td>4</td>\n",
       "      <td></td>\n",
       "      <td>Jun 11, 2009</td>\n",
       "      <td>2956</td>\n",
       "      <td>A necessary evil this summer.</td>\n",
       "    </tr>\n",
       "  </tbody>\n",
       "</table>\n",
       "</div>"
      ],
      "text/plain": [
       "  overall    reviewTime  asin  \\\n",
       "0          Nov 19, 2013  2956   \n",
       "1          Aug 23, 2013  2956   \n",
       "2          May 05, 2016  2956   \n",
       "3          Oct 28, 2017  2956   \n",
       "4          Jun 11, 2009  2956   \n",
       "\n",
       "                                          reviewText  \n",
       "0  This book is filled with lots of examples. Som...  \n",
       "1  What can I say? This book secured me an A+ on ...  \n",
       "2  This book is so helpful for beginners in resea...  \n",
       "3                     Very instructive. Very boring.  \n",
       "4                      A necessary evil this summer.  "
      ]
     },
     "execution_count": 14,
     "metadata": {},
     "output_type": "execute_result"
    }
   ],
   "source": [
    "df"
   ]
  },
  {
   "cell_type": "code",
   "execution_count": 15,
   "metadata": {},
   "outputs": [
    {
     "name": "stdout",
     "output_type": "stream",
     "text": [
      "{'000274080X', '0004707532'}\n"
     ]
    }
   ],
   "source": [
    "print(notfound)"
   ]
  }
 ],
 "metadata": {
  "kernelspec": {
   "display_name": "Python 3",
   "language": "python",
   "name": "python3"
  },
  "language_info": {
   "codemirror_mode": {
    "name": "ipython",
    "version": 3
   },
   "file_extension": ".py",
   "mimetype": "text/x-python",
   "name": "python",
   "nbconvert_exporter": "python",
   "pygments_lexer": "ipython3",
   "version": "3.7.4"
  }
 },
 "nbformat": 4,
 "nbformat_minor": 2
}
