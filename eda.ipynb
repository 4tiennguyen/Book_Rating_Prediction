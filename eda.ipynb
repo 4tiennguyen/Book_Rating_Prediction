{
 "cells": [
  {
   "cell_type": "code",
   "execution_count": 1,
   "metadata": {},
   "outputs": [],
   "source": [
    "#Prevent Large File crashing on Jupyter Notebook\n",
    "import os\n",
    "os.environ['KMP_DUPLICATE_LIB_OK'] = 'True'"
   ]
  },
  {
   "cell_type": "code",
   "execution_count": 2,
   "metadata": {},
   "outputs": [],
   "source": [
    "import pandas as pd\n",
    "import numpy as np\n",
    "#import vaex, numpy as np\n",
    "from matplotlib.font_manager import FontProperties\n",
    "import seaborn as sns\n",
    "from matplotlib import rcParams\n",
    "import matplotlib.pyplot as plt\n",
    "%matplotlib inline\n",
    "import matplotlib.ticker as ticker\n",
    "import datetime\n",
    "import warnings \n",
    "#sns.set_style(\"darkgrid\",{\"axes.axisbelow\" : False })\n",
    "warnings.simplefilter('ignore')\n",
    "import string"
   ]
  },
  {
   "cell_type": "markdown",
   "metadata": {},
   "source": [
    "# AMAZON DATA"
   ]
  },
  {
   "cell_type": "code",
   "execution_count": 3,
   "metadata": {},
   "outputs": [],
   "source": [
    "amazon = pd.read_csv('amazon_metadata.csv')\n",
    "gr     = pd.read_csv('goodreads_metadata.csv')"
   ]
  },
  {
   "cell_type": "markdown",
   "metadata": {},
   "source": [
    "### Checking missing value"
   ]
  },
  {
   "cell_type": "code",
   "execution_count": 4,
   "metadata": {},
   "outputs": [
    {
     "data": {
      "text/plain": [
       "asin                  0\n",
       "average               0\n",
       "rating_count          0\n",
       "text_reviews_count    0\n",
       "genres                0\n",
       "dtype: int64"
      ]
     },
     "execution_count": 4,
     "metadata": {},
     "output_type": "execute_result"
    }
   ],
   "source": [
    "amazon.isnull().sum()"
   ]
  },
  {
   "cell_type": "code",
   "execution_count": 5,
   "metadata": {},
   "outputs": [
    {
     "data": {
      "text/plain": [
       "asin                        0\n",
       "ratings_count               0\n",
       "reviews_count               0\n",
       "text_reviews_count          0\n",
       "total_ratings_count         0\n",
       "total_reviews_count         0\n",
       "total_text_reviews_count    0\n",
       "average_rating              0\n",
       "dtype: int64"
      ]
     },
     "execution_count": 5,
     "metadata": {},
     "output_type": "execute_result"
    }
   ],
   "source": [
    "gr.isnull().sum()"
   ]
  },
  {
   "cell_type": "markdown",
   "metadata": {},
   "source": [
    "### Plot the distribution of the avarage rating "
   ]
  },
  {
   "cell_type": "code",
   "execution_count": 6,
   "metadata": {},
   "outputs": [
    {
     "data": {
      "text/html": [
       "<div>\n",
       "<style scoped>\n",
       "    .dataframe tbody tr th:only-of-type {\n",
       "        vertical-align: middle;\n",
       "    }\n",
       "\n",
       "    .dataframe tbody tr th {\n",
       "        vertical-align: top;\n",
       "    }\n",
       "\n",
       "    .dataframe thead th {\n",
       "        text-align: right;\n",
       "    }\n",
       "</style>\n",
       "<table border=\"1\" class=\"dataframe\">\n",
       "  <thead>\n",
       "    <tr style=\"text-align: right;\">\n",
       "      <th></th>\n",
       "      <th>average</th>\n",
       "      <th>rating_count</th>\n",
       "      <th>text_reviews_count</th>\n",
       "    </tr>\n",
       "  </thead>\n",
       "  <tbody>\n",
       "    <tr>\n",
       "      <td>count</td>\n",
       "      <td>37233.000000</td>\n",
       "      <td>37233.000000</td>\n",
       "      <td>37233.000000</td>\n",
       "    </tr>\n",
       "    <tr>\n",
       "      <td>mean</td>\n",
       "      <td>4.261219</td>\n",
       "      <td>152.651680</td>\n",
       "      <td>152.615798</td>\n",
       "    </tr>\n",
       "    <tr>\n",
       "      <td>std</td>\n",
       "      <td>0.422799</td>\n",
       "      <td>702.459338</td>\n",
       "      <td>702.255076</td>\n",
       "    </tr>\n",
       "    <tr>\n",
       "      <td>min</td>\n",
       "      <td>1.080000</td>\n",
       "      <td>6.000000</td>\n",
       "      <td>6.000000</td>\n",
       "    </tr>\n",
       "    <tr>\n",
       "      <td>25%</td>\n",
       "      <td>4.040000</td>\n",
       "      <td>22.000000</td>\n",
       "      <td>22.000000</td>\n",
       "    </tr>\n",
       "    <tr>\n",
       "      <td>50%</td>\n",
       "      <td>4.330000</td>\n",
       "      <td>43.000000</td>\n",
       "      <td>43.000000</td>\n",
       "    </tr>\n",
       "    <tr>\n",
       "      <td>75%</td>\n",
       "      <td>4.570000</td>\n",
       "      <td>107.000000</td>\n",
       "      <td>107.000000</td>\n",
       "    </tr>\n",
       "    <tr>\n",
       "      <td>max</td>\n",
       "      <td>5.000000</td>\n",
       "      <td>44956.000000</td>\n",
       "      <td>44947.000000</td>\n",
       "    </tr>\n",
       "  </tbody>\n",
       "</table>\n",
       "</div>"
      ],
      "text/plain": [
       "            average  rating_count  text_reviews_count\n",
       "count  37233.000000  37233.000000        37233.000000\n",
       "mean       4.261219    152.651680          152.615798\n",
       "std        0.422799    702.459338          702.255076\n",
       "min        1.080000      6.000000            6.000000\n",
       "25%        4.040000     22.000000           22.000000\n",
       "50%        4.330000     43.000000           43.000000\n",
       "75%        4.570000    107.000000          107.000000\n",
       "max        5.000000  44956.000000        44947.000000"
      ]
     },
     "execution_count": 6,
     "metadata": {},
     "output_type": "execute_result"
    }
   ],
   "source": [
    "amazon.describe()"
   ]
  },
  {
   "cell_type": "code",
   "execution_count": 7,
   "metadata": {},
   "outputs": [
    {
     "data": {
      "text/html": [
       "<div>\n",
       "<style scoped>\n",
       "    .dataframe tbody tr th:only-of-type {\n",
       "        vertical-align: middle;\n",
       "    }\n",
       "\n",
       "    .dataframe tbody tr th {\n",
       "        vertical-align: top;\n",
       "    }\n",
       "\n",
       "    .dataframe thead th {\n",
       "        text-align: right;\n",
       "    }\n",
       "</style>\n",
       "<table border=\"1\" class=\"dataframe\">\n",
       "  <thead>\n",
       "    <tr style=\"text-align: right;\">\n",
       "      <th></th>\n",
       "      <th>ratings_count</th>\n",
       "      <th>reviews_count</th>\n",
       "      <th>text_reviews_count</th>\n",
       "      <th>total_ratings_count</th>\n",
       "      <th>total_reviews_count</th>\n",
       "      <th>total_text_reviews_count</th>\n",
       "      <th>average_rating</th>\n",
       "    </tr>\n",
       "  </thead>\n",
       "  <tbody>\n",
       "    <tr>\n",
       "      <td>count</td>\n",
       "      <td>3.723300e+04</td>\n",
       "      <td>3.723300e+04</td>\n",
       "      <td>37233.000000</td>\n",
       "      <td>3.723300e+04</td>\n",
       "      <td>3.723300e+04</td>\n",
       "      <td>37233.000000</td>\n",
       "      <td>37233.000000</td>\n",
       "    </tr>\n",
       "    <tr>\n",
       "      <td>mean</td>\n",
       "      <td>2.141833e+03</td>\n",
       "      <td>4.211693e+03</td>\n",
       "      <td>145.747267</td>\n",
       "      <td>1.147746e+04</td>\n",
       "      <td>1.963290e+04</td>\n",
       "      <td>614.953992</td>\n",
       "      <td>3.873311</td>\n",
       "    </tr>\n",
       "    <tr>\n",
       "      <td>std</td>\n",
       "      <td>2.213376e+04</td>\n",
       "      <td>2.996176e+04</td>\n",
       "      <td>974.148611</td>\n",
       "      <td>8.537788e+04</td>\n",
       "      <td>1.153654e+05</td>\n",
       "      <td>3121.161743</td>\n",
       "      <td>0.306148</td>\n",
       "    </tr>\n",
       "    <tr>\n",
       "      <td>min</td>\n",
       "      <td>0.000000e+00</td>\n",
       "      <td>0.000000e+00</td>\n",
       "      <td>0.000000</td>\n",
       "      <td>1.000000e+00</td>\n",
       "      <td>3.000000e+00</td>\n",
       "      <td>0.000000</td>\n",
       "      <td>2.320000</td>\n",
       "    </tr>\n",
       "    <tr>\n",
       "      <td>25%</td>\n",
       "      <td>5.900000e+01</td>\n",
       "      <td>1.500000e+02</td>\n",
       "      <td>9.000000</td>\n",
       "      <td>2.270000e+02</td>\n",
       "      <td>6.300000e+02</td>\n",
       "      <td>27.000000</td>\n",
       "      <td>3.690000</td>\n",
       "    </tr>\n",
       "    <tr>\n",
       "      <td>50%</td>\n",
       "      <td>1.860000e+02</td>\n",
       "      <td>5.060000e+02</td>\n",
       "      <td>24.000000</td>\n",
       "      <td>8.210000e+02</td>\n",
       "      <td>2.103000e+03</td>\n",
       "      <td>83.000000</td>\n",
       "      <td>3.890000</td>\n",
       "    </tr>\n",
       "    <tr>\n",
       "      <td>75%</td>\n",
       "      <td>6.900000e+02</td>\n",
       "      <td>1.797000e+03</td>\n",
       "      <td>75.000000</td>\n",
       "      <td>3.416000e+03</td>\n",
       "      <td>7.850000e+03</td>\n",
       "      <td>292.000000</td>\n",
       "      <td>4.080000</td>\n",
       "    </tr>\n",
       "    <tr>\n",
       "      <td>max</td>\n",
       "      <td>2.056193e+06</td>\n",
       "      <td>2.238009e+06</td>\n",
       "      <td>68752.000000</td>\n",
       "      <td>4.718437e+06</td>\n",
       "      <td>5.684376e+06</td>\n",
       "      <td>152766.000000</td>\n",
       "      <td>5.000000</td>\n",
       "    </tr>\n",
       "  </tbody>\n",
       "</table>\n",
       "</div>"
      ],
      "text/plain": [
       "       ratings_count  reviews_count  text_reviews_count  total_ratings_count  \\\n",
       "count   3.723300e+04   3.723300e+04        37233.000000         3.723300e+04   \n",
       "mean    2.141833e+03   4.211693e+03          145.747267         1.147746e+04   \n",
       "std     2.213376e+04   2.996176e+04          974.148611         8.537788e+04   \n",
       "min     0.000000e+00   0.000000e+00            0.000000         1.000000e+00   \n",
       "25%     5.900000e+01   1.500000e+02            9.000000         2.270000e+02   \n",
       "50%     1.860000e+02   5.060000e+02           24.000000         8.210000e+02   \n",
       "75%     6.900000e+02   1.797000e+03           75.000000         3.416000e+03   \n",
       "max     2.056193e+06   2.238009e+06        68752.000000         4.718437e+06   \n",
       "\n",
       "       total_reviews_count  total_text_reviews_count  average_rating  \n",
       "count         3.723300e+04              37233.000000    37233.000000  \n",
       "mean          1.963290e+04                614.953992        3.873311  \n",
       "std           1.153654e+05               3121.161743        0.306148  \n",
       "min           3.000000e+00                  0.000000        2.320000  \n",
       "25%           6.300000e+02                 27.000000        3.690000  \n",
       "50%           2.103000e+03                 83.000000        3.890000  \n",
       "75%           7.850000e+03                292.000000        4.080000  \n",
       "max           5.684376e+06             152766.000000        5.000000  "
      ]
     },
     "execution_count": 7,
     "metadata": {},
     "output_type": "execute_result"
    }
   ],
   "source": [
    "gr.describe()"
   ]
  },
  {
   "cell_type": "code",
   "execution_count": 8,
   "metadata": {},
   "outputs": [
    {
     "data": {
      "image/png": "[encoded data removed]",
      "text/plain": [
       "<Figure size 432x288 with 1 Axes>"
      ]
     },
     "metadata": {
      "needs_background": "light"
     },
     "output_type": "display_data"
    }
   ],
   "source": [
    "#fig,ax=plt.subplots(1,2)\n",
    "sns.distplot(amazon.average, hist=True, kde=False,  \n",
    "             bins=28, color = 'blue',\n",
    "             hist_kws={'edgecolor':'black'})\n",
    "plt.xlabel('Average rating')\n",
    "plt.ylabel('Frequency')\n",
    "plt.title('Distribution of Amazon avarage rating')\n",
    "plt.show()"
   ]
  },
  {
   "cell_type": "code",
   "execution_count": 9,
   "metadata": {},
   "outputs": [
    {
     "data": {
      "image/png": "[encoded data removed]",
      "text/plain": [
       "<Figure size 432x288 with 1 Axes>"
      ]
     },
     "metadata": {
      "needs_background": "light"
     },
     "output_type": "display_data"
    }
   ],
   "source": [
    "sns.distplot(gr.average_rating, hist=True, kde=False,  \n",
    "             bins=28, color = 'blue',\n",
    "             hist_kws={'edgecolor':'black'})\n",
    "plt.xlabel('Average rating')\n",
    "plt.ylabel('Frequency')\n",
    "plt.title('Distribution of Goodreads avarage rating')\n",
    "plt.show()"
   ]
  },
  {
   "cell_type": "code",
   "execution_count": 10,
   "metadata": {},
   "outputs": [
    {
     "data": {
      "image/png": "[encoded data removed]",
      "text/plain": [
       "<Figure size 432x288 with 1 Axes>"
      ]
     },
     "metadata": {
      "needs_background": "light"
     },
     "output_type": "display_data"
    }
   ],
   "source": [
    "plt.figure()\n",
    "sns.countplot(x=np.round(amazon.average,0))\n",
    "plt.xlabel('Score (Rating)')\n",
    "plt.show()"
   ]
  },
  {
   "cell_type": "code",
   "execution_count": 11,
   "metadata": {},
   "outputs": [
    {
     "data": {
      "image/png": "[encoded data removed]",
      "text/plain": [
       "<Figure size 432x288 with 1 Axes>"
      ]
     },
     "metadata": {
      "needs_background": "light"
     },
     "output_type": "display_data"
    }
   ],
   "source": [
    "plt.figure()\n",
    "sns.countplot(x=np.round(gr.average_rating,0), data=gr)#,palette='RdBu')\n",
    "plt.xlabel('Score (Rating)')\n",
    "plt.show()"
   ]
  },
  {
   "cell_type": "code",
   "execution_count": null,
   "metadata": {},
   "outputs": [],
   "source": []
  },
  {
   "cell_type": "markdown",
   "metadata": {},
   "source": [
    "### Average rating vs number of reviews"
   ]
  },
  {
   "cell_type": "code",
   "execution_count": 12,
   "metadata": {},
   "outputs": [
    {
     "data": {
      "text/plain": [
       "Text(0.5, 1.0, 'Amazon Average Rating vs Number of Ratings')"
      ]
     },
     "execution_count": 12,
     "metadata": {},
     "output_type": "execute_result"
    },
    {
     "data": {
      "image/png": "[encoded data removed]",
      "text/plain": [
       "<Figure size 432x288 with 1 Axes>"
      ]
     },
     "metadata": {
      "needs_background": "light"
     },
     "output_type": "display_data"
    }
   ],
   "source": [
    "plt.scatter(amazon.average,amazon.rating_count)\n",
    "plt.title('Amazon Average Rating vs Number of Ratings', size = 13)"
   ]
  },
  {
   "cell_type": "code",
   "execution_count": 13,
   "metadata": {},
   "outputs": [
    {
     "data": {
      "text/plain": [
       "Text(0.5, 1.0, 'Goodreads Average Rating vs Number of Ratings')"
      ]
     },
     "execution_count": 13,
     "metadata": {},
     "output_type": "execute_result"
    },
    {
     "data": {
      "image/png": "[encoded data removed]",
      "text/plain": [
       "<Figure size 432x288 with 1 Axes>"
      ]
     },
     "metadata": {
      "needs_background": "light"
     },
     "output_type": "display_data"
    }
   ],
   "source": [
    "plt.scatter(gr.average_rating,gr.total_ratings_count)\n",
    "plt.title('Goodreads Average Rating vs Number of Ratings', size = 13)"
   ]
  },
  {
   "cell_type": "markdown",
   "metadata": {},
   "source": [
    "## Amazon rating - Goodreads rating"
   ]
  },
  {
   "cell_type": "code",
   "execution_count": 14,
   "metadata": {},
   "outputs": [],
   "source": [
    "amazon_gr = pd.merge(amazon, gr, how = 'inner', on ='asin')"
   ]
  },
  {
   "cell_type": "code",
   "execution_count": 15,
   "metadata": {},
   "outputs": [],
   "source": [
    "amazon_gr['rating_diff'] = amazon_gr['average'] -  amazon_gr['average_rating']"
   ]
  },
  {
   "cell_type": "code",
   "execution_count": 16,
   "metadata": {},
   "outputs": [],
   "source": [
    "am_gr = pd.DataFrame(amazon_gr, columns = ['asin','rating_diff','average','rating_count', 'text_reviews_count_x','total_ratings_count',\n",
    "                                           'total_text_reviews_count', 'average_rating','genres'])"
   ]
  },
  {
   "cell_type": "code",
   "execution_count": 17,
   "metadata": {},
   "outputs": [],
   "source": [
    "am_gr = am_gr.rename(columns = {'average':'amazon_average', 'rating_count': 'amazon_rating_count', \n",
    "                                'text_reviews_count_x': 'amazon_text_reviews_count', 'total_ratings_count': 'gr_rating_count',\n",
    "                                'total_text_reviews_count':'gr_text_reviews_count', 'average_rating': 'gr_average'})"
   ]
  },
  {
   "cell_type": "code",
   "execution_count": 18,
   "metadata": {},
   "outputs": [
    {
     "data": {
      "text/html": [
       "<div>\n",
       "<style scoped>\n",
       "    .dataframe tbody tr th:only-of-type {\n",
       "        vertical-align: middle;\n",
       "    }\n",
       "\n",
       "    .dataframe tbody tr th {\n",
       "        vertical-align: top;\n",
       "    }\n",
       "\n",
       "    .dataframe thead th {\n",
       "        text-align: right;\n",
       "    }\n",
       "</style>\n",
       "<table border=\"1\" class=\"dataframe\">\n",
       "  <thead>\n",
       "    <tr style=\"text-align: right;\">\n",
       "      <th></th>\n",
       "      <th>rating_diff</th>\n",
       "      <th>amazon_average</th>\n",
       "      <th>amazon_rating_count</th>\n",
       "      <th>amazon_text_reviews_count</th>\n",
       "      <th>gr_rating_count</th>\n",
       "      <th>gr_text_reviews_count</th>\n",
       "      <th>gr_average</th>\n",
       "    </tr>\n",
       "  </thead>\n",
       "  <tbody>\n",
       "    <tr>\n",
       "      <td>count</td>\n",
       "      <td>37233.000000</td>\n",
       "      <td>37233.000000</td>\n",
       "      <td>37233.000000</td>\n",
       "      <td>37233.000000</td>\n",
       "      <td>3.723300e+04</td>\n",
       "      <td>37233.000000</td>\n",
       "      <td>37233.000000</td>\n",
       "    </tr>\n",
       "    <tr>\n",
       "      <td>mean</td>\n",
       "      <td>0.387908</td>\n",
       "      <td>4.261219</td>\n",
       "      <td>152.651680</td>\n",
       "      <td>152.615798</td>\n",
       "      <td>1.147746e+04</td>\n",
       "      <td>614.953992</td>\n",
       "      <td>3.873311</td>\n",
       "    </tr>\n",
       "    <tr>\n",
       "      <td>std</td>\n",
       "      <td>0.335298</td>\n",
       "      <td>0.422799</td>\n",
       "      <td>702.459338</td>\n",
       "      <td>702.255076</td>\n",
       "      <td>8.537788e+04</td>\n",
       "      <td>3121.161743</td>\n",
       "      <td>0.306148</td>\n",
       "    </tr>\n",
       "    <tr>\n",
       "      <td>min</td>\n",
       "      <td>-2.780000</td>\n",
       "      <td>1.080000</td>\n",
       "      <td>6.000000</td>\n",
       "      <td>6.000000</td>\n",
       "      <td>1.000000e+00</td>\n",
       "      <td>0.000000</td>\n",
       "      <td>2.320000</td>\n",
       "    </tr>\n",
       "    <tr>\n",
       "      <td>25%</td>\n",
       "      <td>0.210000</td>\n",
       "      <td>4.040000</td>\n",
       "      <td>22.000000</td>\n",
       "      <td>22.000000</td>\n",
       "      <td>2.270000e+02</td>\n",
       "      <td>27.000000</td>\n",
       "      <td>3.690000</td>\n",
       "    </tr>\n",
       "    <tr>\n",
       "      <td>50%</td>\n",
       "      <td>0.410000</td>\n",
       "      <td>4.330000</td>\n",
       "      <td>43.000000</td>\n",
       "      <td>43.000000</td>\n",
       "      <td>8.210000e+02</td>\n",
       "      <td>83.000000</td>\n",
       "      <td>3.890000</td>\n",
       "    </tr>\n",
       "    <tr>\n",
       "      <td>75%</td>\n",
       "      <td>0.590000</td>\n",
       "      <td>4.570000</td>\n",
       "      <td>107.000000</td>\n",
       "      <td>107.000000</td>\n",
       "      <td>3.416000e+03</td>\n",
       "      <td>292.000000</td>\n",
       "      <td>4.080000</td>\n",
       "    </tr>\n",
       "    <tr>\n",
       "      <td>max</td>\n",
       "      <td>1.990000</td>\n",
       "      <td>5.000000</td>\n",
       "      <td>44956.000000</td>\n",
       "      <td>44947.000000</td>\n",
       "      <td>4.718437e+06</td>\n",
       "      <td>152766.000000</td>\n",
       "      <td>5.000000</td>\n",
       "    </tr>\n",
       "  </tbody>\n",
       "</table>\n",
       "</div>"
      ],
      "text/plain": [
       "        rating_diff  amazon_average  amazon_rating_count  \\\n",
       "count  37233.000000    37233.000000         37233.000000   \n",
       "mean       0.387908        4.261219           152.651680   \n",
       "std        0.335298        0.422799           702.459338   \n",
       "min       -2.780000        1.080000             6.000000   \n",
       "25%        0.210000        4.040000            22.000000   \n",
       "50%        0.410000        4.330000            43.000000   \n",
       "75%        0.590000        4.570000           107.000000   \n",
       "max        1.990000        5.000000         44956.000000   \n",
       "\n",
       "       amazon_text_reviews_count  gr_rating_count  gr_text_reviews_count  \\\n",
       "count               37233.000000     3.723300e+04           37233.000000   \n",
       "mean                  152.615798     1.147746e+04             614.953992   \n",
       "std                   702.255076     8.537788e+04            3121.161743   \n",
       "min                     6.000000     1.000000e+00               0.000000   \n",
       "25%                    22.000000     2.270000e+02              27.000000   \n",
       "50%                    43.000000     8.210000e+02              83.000000   \n",
       "75%                   107.000000     3.416000e+03             292.000000   \n",
       "max                 44947.000000     4.718437e+06          152766.000000   \n",
       "\n",
       "         gr_average  \n",
       "count  37233.000000  \n",
       "mean       3.873311  \n",
       "std        0.306148  \n",
       "min        2.320000  \n",
       "25%        3.690000  \n",
       "50%        3.890000  \n",
       "75%        4.080000  \n",
       "max        5.000000  "
      ]
     },
     "execution_count": 18,
     "metadata": {},
     "output_type": "execute_result"
    }
   ],
   "source": [
    "am_gr.describe()"
   ]
  },
  {
   "cell_type": "code",
   "execution_count": 19,
   "metadata": {},
   "outputs": [
    {
     "data": {
      "image/png": "[encoded data removed]",
      "text/plain": [
       "<Figure size 432x288 with 1 Axes>"
      ]
     },
     "metadata": {
      "needs_background": "light"
     },
     "output_type": "display_data"
    }
   ],
   "source": [
    "sns.distplot(am_gr.rating_diff, hist=True, kde=False,  \n",
    "             bins=28, color = 'blue',\n",
    "             hist_kws={'edgecolor':'black'})\n",
    "plt.xlabel('Average rating')\n",
    "plt.ylabel('Frequency')\n",
    "plt.title('Distribution of difference rating')\n",
    "plt.xlim(-2.5,1.5)\n",
    "plt.show()"
   ]
  },
  {
   "cell_type": "code",
   "execution_count": 20,
   "metadata": {},
   "outputs": [
    {
     "data": {
      "text/html": [
       "<div>\n",
       "<style scoped>\n",
       "    .dataframe tbody tr th:only-of-type {\n",
       "        vertical-align: middle;\n",
       "    }\n",
       "\n",
       "    .dataframe tbody tr th {\n",
       "        vertical-align: top;\n",
       "    }\n",
       "\n",
       "    .dataframe thead th {\n",
       "        text-align: right;\n",
       "    }\n",
       "</style>\n",
       "<table border=\"1\" class=\"dataframe\">\n",
       "  <thead>\n",
       "    <tr style=\"text-align: right;\">\n",
       "      <th></th>\n",
       "      <th>asin</th>\n",
       "      <th>rating_diff</th>\n",
       "      <th>amazon_average</th>\n",
       "      <th>amazon_rating_count</th>\n",
       "      <th>amazon_text_reviews_count</th>\n",
       "      <th>gr_rating_count</th>\n",
       "      <th>gr_text_reviews_count</th>\n",
       "      <th>gr_average</th>\n",
       "      <th>genres</th>\n",
       "      <th>rating_count</th>\n",
       "      <th>text_reviews_count</th>\n",
       "    </tr>\n",
       "  </thead>\n",
       "  <tbody>\n",
       "    <tr>\n",
       "      <td>0</td>\n",
       "      <td>0001713353</td>\n",
       "      <td>0.56</td>\n",
       "      <td>4.83</td>\n",
       "      <td>54</td>\n",
       "      <td>54</td>\n",
       "      <td>637</td>\n",
       "      <td>55</td>\n",
       "      <td>4.27</td>\n",
       "      <td>Childrens Books, Literature &amp; Fiction</td>\n",
       "      <td>691</td>\n",
       "      <td>109</td>\n",
       "    </tr>\n",
       "    <tr>\n",
       "      <td>1</td>\n",
       "      <td>0001061240</td>\n",
       "      <td>0.25</td>\n",
       "      <td>4.87</td>\n",
       "      <td>45</td>\n",
       "      <td>45</td>\n",
       "      <td>221</td>\n",
       "      <td>36</td>\n",
       "      <td>4.62</td>\n",
       "      <td>Childrens Books, Literature &amp; Fiction</td>\n",
       "      <td>266</td>\n",
       "      <td>81</td>\n",
       "    </tr>\n",
       "    <tr>\n",
       "      <td>2</td>\n",
       "      <td>0001711296</td>\n",
       "      <td>0.15</td>\n",
       "      <td>4.44</td>\n",
       "      <td>107</td>\n",
       "      <td>107</td>\n",
       "      <td>738</td>\n",
       "      <td>65</td>\n",
       "      <td>4.29</td>\n",
       "      <td>Literature &amp; Fiction</td>\n",
       "      <td>845</td>\n",
       "      <td>172</td>\n",
       "    </tr>\n",
       "    <tr>\n",
       "      <td>3</td>\n",
       "      <td>0002007649</td>\n",
       "      <td>-0.20</td>\n",
       "      <td>3.37</td>\n",
       "      <td>19</td>\n",
       "      <td>19</td>\n",
       "      <td>356</td>\n",
       "      <td>41</td>\n",
       "      <td>3.57</td>\n",
       "      <td>Science &amp; Math, Chemistry</td>\n",
       "      <td>375</td>\n",
       "      <td>60</td>\n",
       "    </tr>\n",
       "    <tr>\n",
       "      <td>4</td>\n",
       "      <td>0001716069</td>\n",
       "      <td>0.79</td>\n",
       "      <td>4.61</td>\n",
       "      <td>59</td>\n",
       "      <td>59</td>\n",
       "      <td>1559</td>\n",
       "      <td>102</td>\n",
       "      <td>3.82</td>\n",
       "      <td>Literature &amp; Fiction, Poetry</td>\n",
       "      <td>1618</td>\n",
       "      <td>161</td>\n",
       "    </tr>\n",
       "    <tr>\n",
       "      <td>...</td>\n",
       "      <td>...</td>\n",
       "      <td>...</td>\n",
       "      <td>...</td>\n",
       "      <td>...</td>\n",
       "      <td>...</td>\n",
       "      <td>...</td>\n",
       "      <td>...</td>\n",
       "      <td>...</td>\n",
       "      <td>...</td>\n",
       "      <td>...</td>\n",
       "      <td>...</td>\n",
       "    </tr>\n",
       "    <tr>\n",
       "      <td>37228</td>\n",
       "      <td>0312943636</td>\n",
       "      <td>0.44</td>\n",
       "      <td>4.17</td>\n",
       "      <td>24</td>\n",
       "      <td>24</td>\n",
       "      <td>1795</td>\n",
       "      <td>134</td>\n",
       "      <td>3.73</td>\n",
       "      <td>Literature &amp; Fiction, Fiction</td>\n",
       "      <td>1819</td>\n",
       "      <td>158</td>\n",
       "    </tr>\n",
       "    <tr>\n",
       "      <td>37229</td>\n",
       "      <td>0312953038</td>\n",
       "      <td>0.25</td>\n",
       "      <td>4.00</td>\n",
       "      <td>27</td>\n",
       "      <td>27</td>\n",
       "      <td>1128</td>\n",
       "      <td>59</td>\n",
       "      <td>3.75</td>\n",
       "      <td>Romance, Historical</td>\n",
       "      <td>1155</td>\n",
       "      <td>86</td>\n",
       "    </tr>\n",
       "    <tr>\n",
       "      <td>37230</td>\n",
       "      <td>0312955154</td>\n",
       "      <td>-0.07</td>\n",
       "      <td>3.29</td>\n",
       "      <td>14</td>\n",
       "      <td>14</td>\n",
       "      <td>56</td>\n",
       "      <td>5</td>\n",
       "      <td>3.36</td>\n",
       "      <td>Literature &amp; Fiction, Fiction</td>\n",
       "      <td>70</td>\n",
       "      <td>19</td>\n",
       "    </tr>\n",
       "    <tr>\n",
       "      <td>37231</td>\n",
       "      <td>0312956878</td>\n",
       "      <td>-0.45</td>\n",
       "      <td>3.33</td>\n",
       "      <td>15</td>\n",
       "      <td>15</td>\n",
       "      <td>59</td>\n",
       "      <td>4</td>\n",
       "      <td>3.78</td>\n",
       "      <td>Biographies &amp; Memoirs, True Crime</td>\n",
       "      <td>74</td>\n",
       "      <td>19</td>\n",
       "    </tr>\n",
       "    <tr>\n",
       "      <td>37232</td>\n",
       "      <td>0312947763</td>\n",
       "      <td>-0.64</td>\n",
       "      <td>2.30</td>\n",
       "      <td>33</td>\n",
       "      <td>33</td>\n",
       "      <td>95</td>\n",
       "      <td>16</td>\n",
       "      <td>2.94</td>\n",
       "      <td>Biographies &amp; Memoirs, True Crime</td>\n",
       "      <td>128</td>\n",
       "      <td>49</td>\n",
       "    </tr>\n",
       "  </tbody>\n",
       "</table>\n",
       "<p>37233 rows × 11 columns</p>\n",
       "</div>"
      ],
      "text/plain": [
       "             asin  rating_diff  amazon_average  amazon_rating_count  \\\n",
       "0      0001713353         0.56            4.83                   54   \n",
       "1      0001061240         0.25            4.87                   45   \n",
       "2      0001711296         0.15            4.44                  107   \n",
       "3      0002007649        -0.20            3.37                   19   \n",
       "4      0001716069         0.79            4.61                   59   \n",
       "...           ...          ...             ...                  ...   \n",
       "37228  0312943636         0.44            4.17                   24   \n",
       "37229  0312953038         0.25            4.00                   27   \n",
       "37230  0312955154        -0.07            3.29                   14   \n",
       "37231  0312956878        -0.45            3.33                   15   \n",
       "37232  0312947763        -0.64            2.30                   33   \n",
       "\n",
       "       amazon_text_reviews_count  gr_rating_count  gr_text_reviews_count  \\\n",
       "0                             54              637                     55   \n",
       "1                             45              221                     36   \n",
       "2                            107              738                     65   \n",
       "3                             19              356                     41   \n",
       "4                             59             1559                    102   \n",
       "...                          ...              ...                    ...   \n",
       "37228                         24             1795                    134   \n",
       "37229                         27             1128                     59   \n",
       "37230                         14               56                      5   \n",
       "37231                         15               59                      4   \n",
       "37232                         33               95                     16   \n",
       "\n",
       "       gr_average                                  genres  rating_count  \\\n",
       "0            4.27   Childrens Books, Literature & Fiction           691   \n",
       "1            4.62   Childrens Books, Literature & Fiction           266   \n",
       "2            4.29                    Literature & Fiction           845   \n",
       "3            3.57               Science & Math, Chemistry           375   \n",
       "4            3.82            Literature & Fiction, Poetry          1618   \n",
       "...           ...                                     ...           ...   \n",
       "37228        3.73           Literature & Fiction, Fiction          1819   \n",
       "37229        3.75                     Romance, Historical          1155   \n",
       "37230        3.36           Literature & Fiction, Fiction            70   \n",
       "37231        3.78       Biographies & Memoirs, True Crime            74   \n",
       "37232        2.94       Biographies & Memoirs, True Crime           128   \n",
       "\n",
       "       text_reviews_count  \n",
       "0                     109  \n",
       "1                      81  \n",
       "2                     172  \n",
       "3                      60  \n",
       "4                     161  \n",
       "...                   ...  \n",
       "37228                 158  \n",
       "37229                  86  \n",
       "37230                  19  \n",
       "37231                  19  \n",
       "37232                  49  \n",
       "\n",
       "[37233 rows x 11 columns]"
      ]
     },
     "execution_count": 20,
     "metadata": {},
     "output_type": "execute_result"
    }
   ],
   "source": [
    "am_gr['rating_count'] = am_gr['amazon_rating_count']+am_gr['gr_rating_count']\n",
    "am_gr['text_reviews_count'] = am_gr['amazon_text_reviews_count']+am_gr['gr_text_reviews_count']\n",
    "am_gr"
   ]
  },
  {
   "cell_type": "code",
   "execution_count": 26,
   "metadata": {},
   "outputs": [
    {
     "data": {
      "text/plain": [
       "Text(0, 0.5, 'Number of Ratings')"
      ]
     },
     "execution_count": 26,
     "metadata": {},
     "output_type": "execute_result"
    },
    {
     "data": {
      "image/png": "[encoded data removed]",
      "text/plain": [
       "<Figure size 432x288 with 1 Axes>"
      ]
     },
     "metadata": {
      "needs_background": "light"
     },
     "output_type": "display_data"
    }
   ],
   "source": [
    "plt.scatter(am_gr.rating_diff, am_gr.rating_count)\n",
    "plt.title('Raitng Different vs Number of Ratings', size = 17)\n",
    "plt.xlabel('Rating Different', size =10)\n",
    "plt.ylabel('Number of Ratings', size =10)"
   ]
  },
  {
   "cell_type": "code",
   "execution_count": 27,
   "metadata": {},
   "outputs": [
    {
     "data": {
      "text/plain": [
       "Text(0, 0.5, 'Number of Text Reviews')"
      ]
     },
     "execution_count": 27,
     "metadata": {},
     "output_type": "execute_result"
    },
    {
     "data": {
      "image/png": "[encoded data removed]",
      "text/plain": [
       "<Figure size 432x288 with 1 Axes>"
      ]
     },
     "metadata": {
      "needs_background": "light"
     },
     "output_type": "display_data"
    }
   ],
   "source": [
    "plt.scatter(am_gr.rating_diff, am_gr.text_reviews_count)\n",
    "plt.title('Raitng Different vs Number of Text Reviews', size = 17)\n",
    "plt.xlabel('Rating Different', size =10)\n",
    "plt.ylabel('Number of Text Reviews', size =10)"
   ]
  },
  {
   "cell_type": "code",
   "execution_count": null,
   "metadata": {},
   "outputs": [],
   "source": []
  }
 ],
 "metadata": {
  "kernelspec": {
   "display_name": "Python 3",
   "language": "python",
   "name": "python3"
  },
  "language_info": {
   "codemirror_mode": {
    "name": "ipython",
    "version": 3
   },
   "file_extension": ".py",
   "mimetype": "text/x-python",
   "name": "python",
   "nbconvert_exporter": "python",
   "pygments_lexer": "ipython3",
   "version": "3.7.3"
  }
 },
 "nbformat": 4,
 "nbformat_minor": 4
}
